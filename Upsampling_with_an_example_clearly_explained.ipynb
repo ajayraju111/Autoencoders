{
  "nbformat": 4,
  "nbformat_minor": 0,
  "metadata": {
    "colab": {
      "name": "Upsampling_with_an_example_clearly_explained",
      "provenance": [],
      "collapsed_sections": []
    },
    "kernelspec": {
      "name": "python3",
      "display_name": "Python 3"
    }
  },
  "cells": [
    {
      "cell_type": "markdown",
      "metadata": {
        "id": "8srL9Kl73Loy",
        "colab_type": "text"
      },
      "source": [
        "### A simple version of an unpooling or opposite pooling layer is called an upsampling layer. It works by repeating the rows and columns of the input."
      ]
    },
    {
      "cell_type": "markdown",
      "metadata": {
        "id": "VSS35E213iIZ",
        "colab_type": "text"
      },
      "source": [
        "# How to Use the UpSampling2D Layer?"
      ]
    },
    {
      "cell_type": "code",
      "metadata": {
        "id": "Xj0em-mvozlQ",
        "colab_type": "code",
        "outputId": "6185a6ce-bd80-4871-8b76-e969a7f20227",
        "colab": {
          "base_uri": "https://localhost:8080/",
          "height": 35
        }
      },
      "source": [
        "from numpy import asarray#for making an array using this\n",
        "from keras.models import Sequential\n",
        "from keras.layers import UpSampling2D"
      ],
      "execution_count": 0,
      "outputs": [
        {
          "output_type": "stream",
          "text": [
            "Using TensorFlow backend.\n"
          ],
          "name": "stderr"
        }
      ]
    },
    {
      "cell_type": "markdown",
      "metadata": {
        "id": "IFP0ifIsx6MV",
        "colab_type": "text"
      },
      "source": [
        "# For example, an input image with the shape 2×2 would be output as 4×4"
      ]
    },
    {
      "cell_type": "code",
      "metadata": {
        "id": "IlxqEsvCpVct",
        "colab_type": "code",
        "colab": {}
      },
      "source": [
        " x = asarray([[1,2],      #our input data.\n",
        "            [3,4]])"
      ],
      "execution_count": 0,
      "outputs": []
    },
    {
      "cell_type": "code",
      "metadata": {
        "id": "HTA-5nmtqaU4",
        "colab_type": "code",
        "outputId": "d0ba5ae1-927b-43ee-f6df-38659339275c",
        "colab": {
          "base_uri": "https://localhost:8080/",
          "height": 35
        }
      },
      "source": [
        "print(\"shape of x:\",x.shape)"
      ],
      "execution_count": 0,
      "outputs": [
        {
          "output_type": "stream",
          "text": [
            "shape of x: (2, 2)\n"
          ],
          "name": "stdout"
        }
      ]
    },
    {
      "cell_type": "code",
      "metadata": {
        "id": "jGFmOasiq5sB",
        "colab_type": "code",
        "colab": {}
      },
      "source": [
        "x = x.reshape(1,2,2,1)   #adding a greyscale to the data and a sample.\n",
        "                         ## reshape input data into one sample a sample with a channel#####"
      ],
      "execution_count": 0,
      "outputs": []
    },
    {
      "cell_type": "markdown",
      "metadata": {
        "id": "SNsRuxBF2SJq",
        "colab_type": "text"
      },
      "source": [
        "We can then use the model to make a prediction, that is upsample a provided input image.\n",
        "\n",
        "...\n",
        "make a prediction with the model,\n",
        "\n",
        "prediction = model.predict(X)\n"
      ]
    },
    {
      "cell_type": "code",
      "metadata": {
        "id": "0v5oSPY8rJio",
        "colab_type": "code",
        "outputId": "9f9dd275-f3e4-4e5f-ba40-2a43a5af8ea8",
        "colab": {
          "base_uri": "https://localhost:8080/",
          "height": 108
        }
      },
      "source": [
        "model = Sequential() #this allows your model to create layer by layers in a sequential manner##\n",
        "model.add(UpSampling2D(input_shape = (2,2,1)))  # we use add() function to add layers to our models.\n",
        "\n"
      ],
      "execution_count": 0,
      "outputs": [
        {
          "output_type": "stream",
          "text": [
            "WARNING:tensorflow:From /usr/local/lib/python3.6/dist-packages/keras/backend/tensorflow_backend.py:541: The name tf.placeholder is deprecated. Please use tf.compat.v1.placeholder instead.\n",
            "\n",
            "WARNING:tensorflow:From /usr/local/lib/python3.6/dist-packages/keras/backend/tensorflow_backend.py:2239: The name tf.image.resize_nearest_neighbor is deprecated. Please use tf.compat.v1.image.resize_nearest_neighbor instead.\n",
            "\n"
          ],
          "name": "stdout"
        }
      ]
    },
    {
      "cell_type": "code",
      "metadata": {
        "id": "8PnX1W75unNu",
        "colab_type": "code",
        "outputId": "62237b68-cff6-4c80-e6ba-30a9285e79ef",
        "colab": {
          "base_uri": "https://localhost:8080/",
          "height": 195
        }
      },
      "source": [
        "model.summary()"
      ],
      "execution_count": 0,
      "outputs": [
        {
          "output_type": "stream",
          "text": [
            "Model: \"sequential_2\"\n",
            "_________________________________________________________________\n",
            "Layer (type)                 Output Shape              Param #   \n",
            "=================================================================\n",
            "up_sampling2d_1 (UpSampling2 (None, 4, 4, 1)           0         \n",
            "=================================================================\n",
            "Total params: 0\n",
            "Trainable params: 0\n",
            "Non-trainable params: 0\n",
            "_________________________________________________________________\n"
          ],
          "name": "stdout"
        }
      ]
    },
    {
      "cell_type": "code",
      "metadata": {
        "id": "fFF0jagMu05m",
        "colab_type": "code",
        "outputId": "5c38de27-fad9-4863-c692-4a036d9780e7",
        "colab": {
          "base_uri": "https://localhost:8080/",
          "height": 144
        }
      },
      "source": [
        "#making a prediction with model##\n",
        "prediction = model.predict(x)"
      ],
      "execution_count": 0,
      "outputs": [
        {
          "output_type": "stream",
          "text": [
            "WARNING:tensorflow:From /usr/local/lib/python3.6/dist-packages/keras/backend/tensorflow_backend.py:3005: The name tf.Session is deprecated. Please use tf.compat.v1.Session instead.\n",
            "\n",
            "WARNING:tensorflow:From /usr/local/lib/python3.6/dist-packages/keras/backend/tensorflow_backend.py:190: The name tf.get_default_session is deprecated. Please use tf.compat.v1.get_default_session instead.\n",
            "\n",
            "WARNING:tensorflow:From /usr/local/lib/python3.6/dist-packages/keras/backend/tensorflow_backend.py:197: The name tf.ConfigProto is deprecated. Please use tf.compat.v1.ConfigProto instead.\n",
            "\n"
          ],
          "name": "stdout"
        }
      ]
    },
    {
      "cell_type": "code",
      "metadata": {
        "id": "-dhT13QCv0VU",
        "colab_type": "code",
        "outputId": "c6de3438-2511-438a-d636-9834385bf04b",
        "colab": {
          "base_uri": "https://localhost:8080/",
          "height": 35
        }
      },
      "source": [
        "prediction.shape"
      ],
      "execution_count": 0,
      "outputs": [
        {
          "output_type": "execute_result",
          "data": {
            "text/plain": [
              "(1, 4, 4, 1)"
            ]
          },
          "metadata": {
            "tags": []
          },
          "execution_count": 17
        }
      ]
    },
    {
      "cell_type": "code",
      "metadata": {
        "id": "OlKL_kCrv2sG",
        "colab_type": "code",
        "colab": {}
      },
      "source": [
        "#so reshaping it to make print easier.\n",
        "prediction = prediction.reshape((4,4))   #removing the chanels."
      ],
      "execution_count": 0,
      "outputs": []
    },
    {
      "cell_type": "code",
      "metadata": {
        "id": "BAZ77cgdwfK-",
        "colab_type": "code",
        "outputId": "278b0fe6-7462-45a5-b7f0-7455af5679d6",
        "colab": {
          "base_uri": "https://localhost:8080/",
          "height": 106
        }
      },
      "source": [
        "print(\"prediction\",prediction)\n",
        "print(\"shape of x after upsampling:\",prediction.shape)"
      ],
      "execution_count": 0,
      "outputs": [
        {
          "output_type": "stream",
          "text": [
            "prediction [[1. 1. 2. 2.]\n",
            " [1. 1. 2. 2.]\n",
            " [3. 3. 4. 4.]\n",
            " [3. 3. 4. 4.]]\n",
            "shape of x after upsampling: (4, 4)\n"
          ],
          "name": "stdout"
        }
      ]
    },
    {
      "cell_type": "markdown",
      "metadata": {
        "id": "2CnTNQhixO2f",
        "colab_type": "text"
      },
      "source": [
        "# Finally, the model is used to upsample our input, resulting in a doubling of each row and column for our input data, as we expected."
      ]
    },
    {
      "cell_type": "markdown",
      "metadata": {
        "id": "Vy-2sibWzIuH",
        "colab_type": "text"
      },
      "source": [
        "By default, the UpSampling2D will double each input dimension. This is defined by the ‘size‘ argument that is set to the tuple (2,2).\n",
        "\n",
        "You may want to use different factors on each dimension, such as double the width and triple the height. This could be achieved by setting the ‘size‘ argument to (2,3).The result of applying this operation to a 2×2 image would be a 4×6 output image (e.g. 2×2 and 2×3)."
      ]
    },
    {
      "cell_type": "code",
      "metadata": {
        "id": "unM5ZM3c0jLe",
        "colab_type": "code",
        "colab": {}
      },
      "source": [
        "\n",
        "...\n",
        "# example of using different scale factors for each dimension\n",
        "model.add(UpSampling2D(size=(2, 3)))"
      ],
      "execution_count": 0,
      "outputs": []
    },
    {
      "cell_type": "markdown",
      "metadata": {
        "id": "iFmAxLgu0j1n",
        "colab_type": "text"
      },
      "source": [
        "Additionally, by default, the UpSampling2D layer will use a nearest neighbor algorithm to fill in the new rows and columns. This has the effect of simply doubling rows and columns, as described and is specified by the ‘interpolation‘ argument set to ‘nearest‘.\n",
        "\n",
        "Alternately, a bilinear interpolation method can be used which draws upon multiple surrounding points. This can be specified via setting the ‘interpolation‘ argument to ‘bilinear‘. For example:"
      ]
    },
    {
      "cell_type": "code",
      "metadata": {
        "id": "sSyy-n4514k8",
        "colab_type": "code",
        "outputId": "3befdde5-6c17-48a3-9e75-e26f00650329",
        "colab": {
          "base_uri": "https://localhost:8080/",
          "height": 72
        }
      },
      "source": [
        "\n",
        "...\n",
        "# example of using bilinear interpolation when upsampling\n",
        "model.add(UpSampling2D(interpolation='bilinear'))"
      ],
      "execution_count": 0,
      "outputs": [
        {
          "output_type": "stream",
          "text": [
            "WARNING:tensorflow:From /usr/local/lib/python3.6/dist-packages/keras/backend/tensorflow_backend.py:2241: The name tf.image.resize_bilinear is deprecated. Please use tf.compat.v1.image.resize_bilinear instead.\n",
            "\n"
          ],
          "name": "stdout"
        }
      ]
    },
    {
      "cell_type": "markdown",
      "metadata": {
        "id": "P6YXGH_MDSgp",
        "colab_type": "text"
      },
      "source": [
        "# There are many interpolation techniques which  will be discussed in this  file  soon"
      ]
    }
  ]
}